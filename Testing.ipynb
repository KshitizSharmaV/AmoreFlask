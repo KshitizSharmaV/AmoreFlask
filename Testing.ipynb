{
 "cells": [
  {
   "cell_type": "code",
   "execution_count": 1,
   "id": "eac49826",
   "metadata": {},
   "outputs": [],
   "source": [
    "import firebase_admin\n",
    "from firebase_admin import credentials\n",
    "from firebase_admin import auth\n",
    "from firebase_admin import firestore\n",
    "import logging\n",
    "\n",
    "cred = credentials.Certificate('serviceAccountKey.json')    \n",
    "default_app = firebase_admin.initialize_app(cred)\n",
    "db = firestore.client()"
   ]
  },
  {
   "cell_type": "code",
   "execution_count": 44,
   "id": "4c2e8096",
   "metadata": {},
   "outputs": [],
   "source": [
    "class FetchProfiles(object):\n",
    "    \n",
    "    def __init__(self, db, logger):\n",
    "        self.db = db\n",
    "        self.logger = logger\n",
    "\n",
    "    def getProfiles(self):\n",
    "        profile_ref = self.db.collection(u'Profiles')\n",
    "        docs = profile_ref.stream()\n",
    "        profilesArray = []\n",
    "        for doc in docs:\n",
    "            doctemp = doc.to_dict()\n",
    "            doctemp[\"id\"] = doc.id # un-comment for production\n",
    "            # doctemp[\"id\"] = ''.join(random.choices(string.ascii_uppercase + string.digits, k=10)) # for testing only, shouldn't go in production\n",
    "            profilesArray.append(doctemp)\n",
    "        self.logger.info(\"Successfully sent back profiles for card swipe view\")\n",
    "        return jsonify(profilesArray)\n",
    "\n",
    "    def getAllLikedProfilesByUser(self):\n",
    "        return self.getProfileIds(collectionName='LikesDislikes',\n",
    "                            userId='QvV4OoZmZ3QWHhMNaZrr7lkqmLF3',\n",
    "                            collectionNameChild='Likes')\n",
    "    \n",
    "    def getAllSuperLikedProfilesByUser(self):\n",
    "        pass\n",
    "\n",
    "    def getAllDislikedProfilesByUser(self):\n",
    "        pass\n",
    "    \n",
    "    def getProfilesWhoLikedUser(self):\n",
    "        pass\n",
    "\n",
    "    def getProfileIds(self, collectionName=None, userId=None, collectionNameChild=None):\n",
    "        collection_ref = self.db.collection(u'LikesDislikes')\n",
    "        collection_ref_likedislike_userIds = collection_ref.document(u'QvV4OoZmZ3QWHhMNaZrr7lkqmLF3')\n",
    "        collection_ref_second_child = collection_ref_likedislike_userIds.collection(u'Dislikes')\n",
    "        docs = collection_ref_second_child.stream()\n",
    "        userIds = []\n",
    "        _ = [userIds.append(doc.to_dict()['id']) for doc in docs]\n",
    "        return userIds\n",
    "    "
   ]
  },
  {
   "cell_type": "code",
   "execution_count": 45,
   "id": "243d1f4c",
   "metadata": {},
   "outputs": [],
   "source": [
    "import logging\n",
    "# Instance of firestore db\n",
    "db = firestore.client()\n",
    "# Instances for fetchprofiles\n",
    "logger = logging.getLogger(__name__)\n",
    "fetchProfilesObj = FetchProfiles(db=db, logger=logger)"
   ]
  },
  {
   "cell_type": "code",
   "execution_count": 65,
   "id": "dfdbb3c5",
   "metadata": {},
   "outputs": [],
   "source": [
    "profilesAlreadySeenByUser = fetchProfilesObj.getAllLikedProfilesByUser()"
   ]
  },
  {
   "cell_type": "code",
   "execution_count": 85,
   "id": "9721e775",
   "metadata": {},
   "outputs": [
    {
     "data": {
      "text/plain": [
       "['p7Gws6QkWxz0v4lm', 'y39LCk1SCOw2gBiG']"
      ]
     },
     "execution_count": 85,
     "metadata": {},
     "output_type": "execute_result"
    }
   ],
   "source": [
    "profilesAlreadySeenByUser"
   ]
  },
  {
   "cell_type": "code",
   "execution_count": 91,
   "id": "ce69cf4c",
   "metadata": {},
   "outputs": [],
   "source": [
    "profile_ref = db.collection(u'Profiles')\n",
    "docs = profile_ref.stream()"
   ]
  },
  {
   "cell_type": "code",
   "execution_count": 93,
   "id": "e9535021",
   "metadata": {},
   "outputs": [],
   "source": [
    "profilesArray = []\n",
    "for doc in docs:\n",
    "    doctemp = doc.to_dict()\n",
    "    if doc.id not in profilesAlreadySeenByUser:\n",
    "        doctemp[\"id\"] = doc.id\n",
    "        profilesArray.append(doctemp)"
   ]
  },
  {
   "cell_type": "code",
   "execution_count": 94,
   "id": "16d4fc41",
   "metadata": {},
   "outputs": [
    {
     "data": {
      "text/plain": [
       "59"
      ]
     },
     "execution_count": 94,
     "metadata": {},
     "output_type": "execute_result"
    }
   ],
   "source": [
    "len(profilesArray)"
   ]
  },
  {
   "cell_type": "code",
   "execution_count": 86,
   "id": "37650c76",
   "metadata": {},
   "outputs": [
    {
     "data": {
      "text/plain": [
       "['p7Gws6QkWxz0v4lm', 'y39LCk1SCOw2gBiG']"
      ]
     },
     "execution_count": 86,
     "metadata": {},
     "output_type": "execute_result"
    }
   ],
   "source": [
    "profilesAlreadySeenByUser"
   ]
  },
  {
   "cell_type": "code",
   "execution_count": null,
   "id": "f6ae2dd9",
   "metadata": {},
   "outputs": [],
   "source": []
  }
 ],
 "metadata": {
  "kernelspec": {
   "display_name": "Python 3 (ipykernel)",
   "language": "python",
   "name": "python3"
  },
  "language_info": {
   "codemirror_mode": {
    "name": "ipython",
    "version": 3
   },
   "file_extension": ".py",
   "mimetype": "text/x-python",
   "name": "python",
   "nbconvert_exporter": "python",
   "pygments_lexer": "ipython3",
   "version": "3.8.9"
  }
 },
 "nbformat": 4,
 "nbformat_minor": 5
}
